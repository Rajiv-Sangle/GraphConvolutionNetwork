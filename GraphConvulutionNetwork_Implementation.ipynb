{
 "cells": [
  {
   "cell_type": "code",
   "execution_count": 11,
   "metadata": {},
   "outputs": [],
   "source": [
    "# This code demonstrates a Graph Convolution Network.\n",
    "\n",
    "## A random graph is initialized and an optimum separation into two groups is achieved,\n",
    "## using two initial labeled nodes\n",
    "\n",
    "# The following resources were helpful in the making\n",
    "# 1) Tobias Skovgaard Jepsen article on Graph Convolution Network\n",
    "# 2) Semi-Supervised Classification with Graph Convolutional Networks\n",
    "#    - Thomas N. Kipf, Max Welling\n",
    "# 3) missinglink.ai\n",
    "# 4) Pytorch documentation\n"
   ]
  },
  {
   "cell_type": "code",
   "execution_count": 12,
   "metadata": {},
   "outputs": [],
   "source": [
    "%matplotlib inline"
   ]
  },
  {
   "cell_type": "code",
   "execution_count": 13,
   "metadata": {},
   "outputs": [
    {
     "name": "stdout",
     "output_type": "stream",
     "text": [
      "Cost at  999  =  0.6714320778846741\n",
      "Cost at  1999  =  0.3715211749076843\n",
      "Cost at  2999  =  0.14226481318473816\n",
      "Cost at  3999  =  0.037847455590963364\n",
      "Cost at  4999  =  0.008435971103608608\n"
     ]
    }
   ],
   "source": [
    "import torch\n",
    "import numpy as np\n",
    "\n",
    "dtype = torch.float\n",
    "device = torch.device(\"cpu\")\n",
    "\n",
    "\n",
    "# N is batch size; D_in is input dimension;\n",
    "# H is hidden dimension; D_out is output dimension.\n",
    "N, D_in, H, D_out = 32, 34, 4, 2 \n",
    "\n",
    "D_in = N # Identity feature matrix\n",
    "\n",
    "\n",
    "# Creating a random graph defined by the adjacency matrix\n",
    "torch.manual_seed(5)\n",
    "\n",
    "A_ = torch.randint(low=0, high=2, size=(N, N), device=device, dtype=dtype)\n",
    "\n",
    "I = torch.eye(N, device=device, dtype=dtype)\n",
    "I_ = 1 - I\n",
    "\n",
    "A = np.multiply(A_,I_) + I\n",
    "\n",
    "D_ = torch.sum(A, dim=1)\n",
    "D_ = torch.diag(D_)\n",
    "D = torch.inverse(D_)\n",
    "\n",
    "# Create Tensors to hold input and outputs.\n",
    "\n",
    "# Identity feature matrix\n",
    "x = torch.eye(D_in, device=device, dtype=dtype)\n",
    "\n",
    "# Labelling 'node 0' and 'node N-1' for training\n",
    "y = torch.zeros(N, D_out, device=device, dtype=dtype)\n",
    "\n",
    "y[0] = torch.tensor([1, 0])\n",
    "y[N-1] = torch.tensor([0, 1])\n",
    "\n",
    "\n",
    "# Creating random Tensors for initial weights.\n",
    "w1 = torch.randn(D_in, H, device=device, dtype=dtype, requires_grad=True)\n",
    "w2 = torch.randn(H, D_out, device=device, dtype=dtype, requires_grad=True)\n",
    "\n",
    "\n",
    "\n",
    "learning_rate = 1e-2\n",
    "for t in range(5000):\n",
    "    # Forward propagation\n",
    "    \n",
    "    h_0 = x\n",
    "    z_1 = ((D.mm(A)).mm(h_0)).mm(w1)\n",
    "    h_1 = z_1.clamp(min=0)\n",
    "    z_2 = ((D.mm(A)).mm(h_1)).mm(w2)\n",
    "    \n",
    "    y_pred = z_2\n",
    "    \n",
    "    # Loss function over the known two labels of node 1 and node N-1\n",
    "    loss = (y_pred[0] - y[0]).pow(2).sum() + (y_pred[N-1] - y[N-1]).pow(2).sum()\n",
    "    \n",
    "    if t % 1000 == 999:\n",
    "        print(\"Cost at \", t, \" = \", loss.item())\n",
    "\n",
    "    # Using autograd to compute the backward pass.\n",
    "    loss.backward()\n",
    "\n",
    "    # Updating the weights with gradient descent\n",
    "    with torch.no_grad():\n",
    "        w1 -= learning_rate * w1.grad\n",
    "        w2 -= learning_rate * w2.grad\n",
    "\n",
    "        # Manually zero the gradients after updating weights\n",
    "        w1.grad.zero_()\n",
    "        w2.grad.zero_()"
   ]
  },
  {
   "cell_type": "code",
   "execution_count": 14,
   "metadata": {},
   "outputs": [
    {
     "name": "stdout",
     "output_type": "stream",
     "text": [
      "tensor([[ 0.9421,  0.0220],\n",
      "        [ 0.5686,  0.4946],\n",
      "        [ 0.6040,  0.4185],\n",
      "        [ 0.6661,  0.3948],\n",
      "        [ 0.9110, -0.0594],\n",
      "        [ 0.2710,  0.8684],\n",
      "        [ 0.6540,  0.3533],\n",
      "        [ 0.3961,  0.5861],\n",
      "        [ 0.3413,  0.5891],\n",
      "        [ 0.7338,  0.2673],\n",
      "        [ 0.3627,  0.6216],\n",
      "        [ 0.6717,  0.2306],\n",
      "        [ 0.1983,  0.8701],\n",
      "        [ 0.6754,  0.2332],\n",
      "        [ 0.5179,  0.5198],\n",
      "        [ 0.8315,  0.2714],\n",
      "        [ 0.7587,  0.2168],\n",
      "        [ 0.6816,  0.1982],\n",
      "        [ 0.5305,  0.3643],\n",
      "        [ 0.8392,  0.1646],\n",
      "        [ 0.5494,  0.4358],\n",
      "        [ 0.0156,  1.0571],\n",
      "        [ 0.8955, -0.0562],\n",
      "        [ 0.7250,  0.3126],\n",
      "        [ 0.6249,  0.4437],\n",
      "        [ 0.4457,  0.6327],\n",
      "        [ 0.7299,  0.3263],\n",
      "        [ 0.4879,  0.5586],\n",
      "        [ 0.8392,  0.0766],\n",
      "        [ 0.5412,  0.3670],\n",
      "        [ 0.6808,  0.3109],\n",
      "        [ 0.0648,  0.9798]], grad_fn=<MmBackward>)\n"
     ]
    }
   ],
   "source": [
    "print(y_pred)"
   ]
  },
  {
   "cell_type": "code",
   "execution_count": 15,
   "metadata": {},
   "outputs": [
    {
     "name": "stdout",
     "output_type": "stream",
     "text": [
      "[[1. 0.]\n",
      " [1. 0.]\n",
      " [1. 0.]\n",
      " [1. 0.]\n",
      " [1. 0.]\n",
      " [0. 1.]\n",
      " [1. 0.]\n",
      " [0. 1.]\n",
      " [0. 1.]\n",
      " [1. 0.]\n",
      " [0. 1.]\n",
      " [1. 0.]\n",
      " [0. 1.]\n",
      " [1. 0.]\n",
      " [0. 1.]\n",
      " [1. 0.]\n",
      " [1. 0.]\n",
      " [1. 0.]\n",
      " [1. 0.]\n",
      " [1. 0.]\n",
      " [1. 0.]\n",
      " [0. 1.]\n",
      " [1. 0.]\n",
      " [1. 0.]\n",
      " [1. 0.]\n",
      " [0. 1.]\n",
      " [1. 0.]\n",
      " [0. 1.]\n",
      " [1. 0.]\n",
      " [1. 0.]\n",
      " [1. 0.]\n",
      " [0. 1.]]\n"
     ]
    }
   ],
   "source": [
    "u = np.zeros((N,2), dtype=float)\n",
    "for i in range(0, N):\n",
    "    if(y_pred[i][0] < y_pred[i][1]):\n",
    "        u[i][1] = 1\n",
    "    else:\n",
    "        u[i][0] = 1\n",
    "print(u)"
   ]
  },
  {
   "cell_type": "code",
   "execution_count": 16,
   "metadata": {},
   "outputs": [],
   "source": [
    "import matplotlib.pyplot as plt"
   ]
  },
  {
   "cell_type": "code",
   "execution_count": 17,
   "metadata": {},
   "outputs": [
    {
     "data": {
      "image/png": "[encoded data removed]",
      "text/plain": [
       "<Figure size 432x288 with 1 Axes>"
      ]
     },
     "metadata": {
      "needs_background": "light"
     },
     "output_type": "display_data"
    }
   ],
   "source": [
    "# Detaching the Gradient Tensor and Converting the pytorch tensor into a numpy array\n",
    "w = y_pred.detach().numpy()\n",
    "\n",
    "# Scatter plot\n",
    "plt.scatter(w[:, 0], w[:, 1], c = u.T[0], marker='o', s=60)\n",
    "plt.show()"
   ]
  },
  {
   "cell_type": "code",
   "execution_count": 55,
   "metadata": {},
   "outputs": [],
   "source": [
    "# It can be observed that an optimum separation of the graph nodes into two groups\n",
    "# has been achieved, using only two initial labeled data points."
   ]
  },
  {
   "cell_type": "code",
   "execution_count": 56,
   "metadata": {},
   "outputs": [],
   "source": [
    "##################################################################################"
   ]
  },
  {
   "cell_type": "code",
   "execution_count": 57,
   "metadata": {},
   "outputs": [],
   "source": [
    "### Since graph separation has been achieved. We now apply the above implementation to the famous \n",
    "### Zachary Karate Club (ZKC) dataset.\n",
    "\n",
    "## 'zkc.txt' stores the adjecancy matrix for the netowrk of karate clubs\n",
    "#   character '1' at location (i,j) refers to an edge from node i to node j\n",
    "\n",
    "## 'y_val.TXT' stores the true or actual labels of the nodes\n",
    "#   Label '1' means that the node groups with the 'Administrator'\n",
    "#   Label '0' means that the node groups with the 'Instructor'\n",
    "\n",
    "## we use 'node 0' and 'node N-1' as our training label and try to predict \n",
    "#  the groups of the other nodes using the information in the adjacency/connectivity matrix"
   ]
  },
  {
   "cell_type": "code",
   "execution_count": 58,
   "metadata": {},
   "outputs": [
    {
     "name": "stdout",
     "output_type": "stream",
     "text": [
      "999 0.5178006291389465\n",
      "1999 0.11166773736476898\n",
      "2999 0.021549202501773834\n",
      "3999 0.004101418890058994\n",
      "4999 0.0008291585836559534\n"
     ]
    }
   ],
   "source": [
    "N, D_in, H, D_out = 34, 34, 4, 2\n",
    "\n",
    "torch.manual_seed(5)\n",
    "\n",
    "# Converting the ZKC adjecancy matrix into a pytorch tensor\n",
    "\n",
    "mat = open('zkc.txt').read()\n",
    "mat = [item.split() for item in mat.split('\\n')[:-1]]\n",
    "mat = np.array(mat)\n",
    "nat = np.zeros(mat.shape)\n",
    "for i in range(0,N):\n",
    "    for j in range(0,N):\n",
    "        if(mat[i][j] == '1'):\n",
    "            nat[i][j] = 1\n",
    "\n",
    "A_ = torch.tensor(nat, device=device, dtype=dtype)\n",
    "\n",
    "I = torch.eye(N, device=device, dtype=dtype)\n",
    "I_ = 1 - I\n",
    "\n",
    "A = np.multiply(A_,I_) + I\n",
    "\n",
    "D_ = torch.sum(A, dim=1)\n",
    "D_ = torch.diag(D_)\n",
    "D = torch.inverse(D_)\n",
    "\n",
    "# Create Tensors to hold input and outputs.\n",
    "\n",
    "# Identity feature matrix\n",
    "x = torch.eye(D_in, device=device, dtype=dtype)\n",
    "\n",
    "# Labelling 'node 0' and 'node N-1' for training\n",
    "y = torch.zeros(N, D_out, device=device, dtype=dtype)\n",
    "\n",
    "y[0] = torch.tensor([1, 0])\n",
    "y[N-1] = torch.tensor([0, 1])\n",
    "\n",
    "\n",
    "# Creating random Tensors for initial weights.\n",
    "\n",
    "w1 = torch.randn(D_in, H, device=device, dtype=dtype, requires_grad=True)\n",
    "w2 = torch.randn(H, D_out, device=device, dtype=dtype, requires_grad=True)\n",
    "\n",
    "learning_rate = 1e-3\n",
    "for t in range(5000):\n",
    "    # Forward propagation\n",
    "    \n",
    "    h_0 = x\n",
    "    z_1 = ((D.mm(A)).mm(h_0)).mm(w1)\n",
    "    h_1 = z_1.clamp(min=0)\n",
    "    z_2 = ((D.mm(A)).mm(h_1)).mm(w2)\n",
    "    \n",
    "    y_pred = z_2\n",
    "    \n",
    "    # Loss Function\n",
    "    loss = (y_pred[0] - y[0]).pow(2).sum() + (y_pred[N-1] - y[N-1]).pow(2).sum()\n",
    "    \n",
    "    if t % 1000 == 999:\n",
    "        print(t, loss.item())\n",
    "\n",
    "    # Use autograd to compute the backward propagation\n",
    "    loss.backward()\n",
    "\n",
    "    # Updating weights\n",
    "    with torch.no_grad():\n",
    "        w1 -= learning_rate * w1.grad\n",
    "        w2 -= learning_rate * w2.grad\n",
    "\n",
    "        # Manually zero the gradients after updating weights\n",
    "        w1.grad.zero_()\n",
    "        w2.grad.zero_()"
   ]
  },
  {
   "cell_type": "code",
   "execution_count": 59,
   "metadata": {},
   "outputs": [
    {
     "name": "stdout",
     "output_type": "stream",
     "text": [
      "tensor([[ 9.9007e-01,  2.1034e-02],\n",
      "        [ 7.2926e-01, -3.9546e-03],\n",
      "        [ 4.7358e-01,  2.6195e-01],\n",
      "        [ 7.9743e-01, -1.4893e-01],\n",
      "        [ 1.4920e+00,  3.9692e-04],\n",
      "        [ 1.1263e+00,  2.1986e-01],\n",
      "        [ 1.2283e+00,  2.4396e-01],\n",
      "        [ 6.3553e-01, -1.4890e-01],\n",
      "        [ 6.1720e-03,  4.2084e-01],\n",
      "        [ 1.3164e-01,  6.0731e-01],\n",
      "        [ 1.4103e+00,  4.0240e-02],\n",
      "        [ 6.8554e-01,  6.8613e-02],\n",
      "        [ 8.8088e-01, -1.4743e-01],\n",
      "        [ 4.3874e-01,  1.1149e-01],\n",
      "        [-6.7824e-01,  1.4890e+00],\n",
      "        [-6.9973e-01,  1.1954e+00],\n",
      "        [ 1.1607e+00,  3.9944e-01],\n",
      "        [ 8.1194e-01, -9.5273e-02],\n",
      "        [-6.3050e-01,  9.4108e-01],\n",
      "        [ 2.5228e-01,  4.7194e-01],\n",
      "        [-5.7040e-01,  1.1132e+00],\n",
      "        [ 5.8405e-01, -1.1371e-01],\n",
      "        [-5.4956e-01,  1.1956e+00],\n",
      "        [-3.2141e-01,  9.3720e-01],\n",
      "        [-5.6030e-01,  9.3425e-01],\n",
      "        [-4.4239e-01,  7.9932e-01],\n",
      "        [ 1.7889e-01,  1.2674e+00],\n",
      "        [-2.7772e-01,  7.0605e-01],\n",
      "        [-1.2199e-01,  6.8282e-01],\n",
      "        [ 7.0878e-02,  1.0185e+00],\n",
      "        [-8.3089e-02,  5.3516e-01],\n",
      "        [-3.8001e-01,  8.1401e-01],\n",
      "        [-2.5729e-01,  9.6713e-01],\n",
      "        [ 5.6312e-03,  9.8399e-01]], grad_fn=<MmBackward>)\n"
     ]
    }
   ],
   "source": [
    "print(y_pred)"
   ]
  },
  {
   "cell_type": "code",
   "execution_count": 60,
   "metadata": {},
   "outputs": [
    {
     "name": "stdout",
     "output_type": "stream",
     "text": [
      "u =\n",
      " [[1. 0.]\n",
      " [1. 0.]\n",
      " [1. 0.]\n",
      " [1. 0.]\n",
      " [1. 0.]\n",
      " [1. 0.]\n",
      " [1. 0.]\n",
      " [1. 0.]\n",
      " [0. 1.]\n",
      " [0. 1.]\n",
      " [1. 0.]\n",
      " [1. 0.]\n",
      " [1. 0.]\n",
      " [1. 0.]\n",
      " [0. 1.]\n",
      " [0. 1.]\n",
      " [1. 0.]\n",
      " [1. 0.]\n",
      " [0. 1.]\n",
      " [0. 1.]\n",
      " [0. 1.]\n",
      " [1. 0.]\n",
      " [0. 1.]\n",
      " [0. 1.]\n",
      " [0. 1.]\n",
      " [0. 1.]\n",
      " [0. 1.]\n",
      " [0. 1.]\n",
      " [0. 1.]\n",
      " [0. 1.]\n",
      " [0. 1.]\n",
      " [0. 1.]\n",
      " [0. 1.]\n",
      " [0. 1.]]\n"
     ]
    }
   ],
   "source": [
    "## Predicted groups for each nodes\n",
    "#  [1. 0.] refers to the 'Administrator Group'\n",
    "#  [0. 1.] refers to the 'Instructor Group'\n",
    "\n",
    "u = np.zeros((N,2), dtype=float)\n",
    "for i in range(0, N):\n",
    "    if(y_pred[i][0] < y_pred[i][1]):\n",
    "        u[i][1] = 1\n",
    "    else:\n",
    "        u[i][0] = 1\n",
    "\n",
    "print(\"u =\\n\", u)"
   ]
  },
  {
   "cell_type": "code",
   "execution_count": 61,
   "metadata": {},
   "outputs": [],
   "source": [
    "# Detaching the Gradient Tensor and Converting the pytorch tensor into a numpy array\n",
    "w = y_pred.detach().numpy()"
   ]
  },
  {
   "cell_type": "code",
   "execution_count": 62,
   "metadata": {},
   "outputs": [
    {
     "name": "stdout",
     "output_type": "stream",
     "text": [
      "Predicted groups:\n"
     ]
    },
    {
     "data": {
      "image/png": "[encoded data removed]",
      "text/plain": [
       "<Figure size 432x288 with 1 Axes>"
      ]
     },
     "metadata": {
      "needs_background": "light"
     },
     "output_type": "display_data"
    },
    {
     "name": "stdout",
     "output_type": "stream",
     "text": [
      "Yellow: Administrator\n",
      "Violet: Instructor\n"
     ]
    }
   ],
   "source": [
    "# Displaying the predicted groups on a scatter plot\n",
    "\n",
    "print(\"Predicted groups:\")\n",
    "\n",
    "plt.scatter(w[:, 0], w[:, 1], c = u.T[0], marker='o', s=60)\n",
    "plt.show()\n",
    "\n",
    "print(\"Yellow: Administrator\")\n",
    "print(\"Violet: Instructor\")"
   ]
  },
  {
   "cell_type": "code",
   "execution_count": 63,
   "metadata": {},
   "outputs": [
    {
     "name": "stdout",
     "output_type": "stream",
     "text": [
      "Actual groups:\n"
     ]
    },
    {
     "data": {
      "image/png": "[encoded data removed]",
      "text/plain": [
       "<Figure size 432x288 with 1 Axes>"
      ]
     },
     "metadata": {
      "needs_background": "light"
     },
     "output_type": "display_data"
    },
    {
     "name": "stdout",
     "output_type": "stream",
     "text": [
      "Yellow: Administrator\n",
      "Violet: Instructor\n"
     ]
    }
   ],
   "source": [
    "# Displaying the actual groups on a scatter plot\n",
    "\n",
    "mat = open('y_val.txt').read()\n",
    "mat = [item.split() for item in mat.split('\\n')[:-1]]\n",
    "mat = np.array(mat).reshape(N,1)\n",
    "\n",
    "ynat = np.zeros(mat.shape)\n",
    "for i in range(0,N):\n",
    "    if(mat[i] == '1'):\n",
    "        ynat[i] = 1\n",
    "\n",
    "print(\"Actual groups:\")\n",
    "        \n",
    "plt.scatter(w[:, 0], w[:, 1], c = ynat.T[0], marker='o', s=60)\n",
    "plt.show()\n",
    "\n",
    "print(\"Yellow: Administrator\")\n",
    "print(\"Violet: Instructor\")"
   ]
  },
  {
   "cell_type": "code",
   "execution_count": 64,
   "metadata": {},
   "outputs": [
    {
     "name": "stdout",
     "output_type": "stream",
     "text": [
      "Incorrectly predicted nodes are:\n",
      "8\n",
      "19\n"
     ]
    },
    {
     "data": {
      "image/png": "[encoded data removed]",
      "text/plain": [
       "<Figure size 432x288 with 1 Axes>"
      ]
     },
     "metadata": {
      "needs_background": "light"
     },
     "output_type": "display_data"
    },
    {
     "name": "stdout",
     "output_type": "stream",
     "text": [
      "Yellow: Administrator\n",
      "Violet: Instructor\n",
      "Red: 'Instructor' nodes incorrectly predicted as 'Administrator'\n"
     ]
    }
   ],
   "source": [
    "## The mismatched groups are marked in red\n",
    "#  'Node 8' and 'Node 19' are incorrectly predicted in the 'Administrator Group',\n",
    "#  whereas they belong to the 'Instructor Group'\n",
    "\n",
    "plt.scatter(w[:, 0], w[:, 1], c = ynat.T[0], marker='o', s=60)\n",
    "\n",
    "print(\"Incorrectly predicted nodes are:\")\n",
    "for i in range(0,N):\n",
    "    if(err[i] == 1):\n",
    "        print(i)\n",
    "        plt.scatter(w[i, 0], w[i, 1], c='r', marker='o', s=60)\n",
    "\n",
    "plt.show()\n",
    "\n",
    "print(\"Yellow: Administrator\")\n",
    "print(\"Violet: Instructor\")\n",
    "print(\"Red: 'Instructor' nodes incorrectly predicted as 'Administrator'\")"
   ]
  },
  {
   "cell_type": "code",
   "execution_count": 65,
   "metadata": {},
   "outputs": [
    {
     "name": "stdout",
     "output_type": "stream",
     "text": [
      "Accuracy of prediction =  5.88235294117647 %\n"
     ]
    }
   ],
   "source": [
    "y_test = ynat.T[0]\n",
    "y_train = u.T[0]\n",
    "\n",
    "err = np.abs(y_test - y_train)\n",
    "s = np.sum(err)\n",
    "\n",
    "acc = s/N\n",
    "print(\"Accuracy of prediction = \", acc*100, \"%\")"
   ]
  },
  {
   "cell_type": "code",
   "execution_count": null,
   "metadata": {},
   "outputs": [],
   "source": []
  }
 ],
 "metadata": {
  "kernelspec": {
   "display_name": "Python 3",
   "language": "python",
   "name": "python3"
  },
  "language_info": {
   "codemirror_mode": {
    "name": "ipython",
    "version": 3
   },
   "file_extension": ".py",
   "mimetype": "text/x-python",
   "name": "python",
   "nbconvert_exporter": "python",
   "pygments_lexer": "ipython3",
   "version": "3.7.4"
  }
 },
 "nbformat": 4,
 "nbformat_minor": 2
}
