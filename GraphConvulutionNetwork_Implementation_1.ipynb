{
 "cells": [
  {
   "cell_type": "code",
   "execution_count": null,
   "metadata": {},
   "outputs": [],
   "source": [
    "# This code demonstrates a Graph Convolution Network.\n",
    "\n",
    "## A random graph is initialized and an optimum separation into two groups is achieved,\n",
    "## using two initial labeled nodes\n",
    "\n",
    "# The following resources were helpful in the making\n",
    "# 1) Tobias Skovgaard Jepsen article on Graph Convolution Network\n",
    "# 2) Semi-Supervised Classification with Graph Convolutional Networks\n",
    "#    - Thomas N. Kipf, Max Welling\n",
    "# 3) missinglink.ai\n",
    "# 4) Pytorch documentation\n"
   ]
  },
  {
   "cell_type": "code",
   "execution_count": 1,
   "metadata": {},
   "outputs": [],
   "source": [
    "%matplotlib inline"
   ]
  },
  {
   "cell_type": "code",
   "execution_count": 5,
   "metadata": {},
   "outputs": [
    {
     "name": "stdout",
     "output_type": "stream",
     "text": [
      "Cost at  999  =  0.6714320778846741\n",
      "Cost at  1999  =  0.3715211749076843\n",
      "Cost at  2999  =  0.14226481318473816\n",
      "Cost at  3999  =  0.037847455590963364\n",
      "Cost at  4999  =  0.008435971103608608\n"
     ]
    }
   ],
   "source": [
    "import torch\n",
    "import numpy as np\n",
    "\n",
    "dtype = torch.float\n",
    "device = torch.device(\"cpu\")\n",
    "\n",
    "\n",
    "# N is batch size; D_in is input dimension;\n",
    "# H is hidden dimension; D_out is output dimension.\n",
    "N, D_in, H, D_out = 32, 34, 4, 2 \n",
    "\n",
    "D_in = N # Identity feature matrix\n",
    "\n",
    "\n",
    "# Creating a random graph defined by the adjecancy matrix\n",
    "torch.manual_seed(5)\n",
    "\n",
    "A_ = torch.randint(low=0, high=2, size=(N, N), device=device, dtype=dtype)\n",
    "\n",
    "I = torch.eye(N, device=device, dtype=dtype)\n",
    "I_ = 1 - I\n",
    "\n",
    "A = np.multiply(A_,I_) + I\n",
    "\n",
    "D_ = torch.sum(A, dim=1)\n",
    "D_ = torch.diag(D_)\n",
    "D = torch.inverse(D_)\n",
    "\n",
    "# Create Tensors to hold input and outputs.\n",
    "\n",
    "# Identity feature matrix\n",
    "x = torch.eye(D_in, device=device, dtype=dtype)\n",
    "\n",
    "# Labelling 'node 0' and 'node N-1' for training\n",
    "y = torch.zeros(N, D_out, device=device, dtype=dtype)\n",
    "\n",
    "y[0] = torch.tensor([1, 0])\n",
    "y[N-1] = torch.tensor([0, 1])\n",
    "\n",
    "\n",
    "# Creating random Tensors for initial weights.\n",
    "w1 = torch.randn(D_in, H, device=device, dtype=dtype, requires_grad=True)\n",
    "w2 = torch.randn(H, D_out, device=device, dtype=dtype, requires_grad=True)\n",
    "\n",
    "\n",
    "\n",
    "learning_rate = 1e-2\n",
    "for t in range(5000):\n",
    "    # Forward propagation\n",
    "    \n",
    "    h_0 = x\n",
    "    z_1 = ((D.mm(A)).mm(h_0)).mm(w1)\n",
    "    h_1 = z_1.clamp(min=0)\n",
    "    z_2 = ((D.mm(A)).mm(h_1)).mm(w2)\n",
    "    \n",
    "    y_pred = z_2\n",
    "    \n",
    "    # Loss function over the known two labels of node 1 and node N-1\n",
    "    loss = (y_pred[0] - y[0]).pow(2).sum() + (y_pred[N-1] - y[N-1]).pow(2).sum()\n",
    "    \n",
    "    if t % 1000 == 999:\n",
    "        print(\"Cost at \", t, \" = \", loss.item())\n",
    "\n",
    "    # Using autograd to compute the backward pass.\n",
    "    loss.backward()\n",
    "\n",
    "    # Updating the weights with gradient descent\n",
    "    with torch.no_grad():\n",
    "        w1 -= learning_rate * w1.grad\n",
    "        w2 -= learning_rate * w2.grad\n",
    "\n",
    "        # Manually zero the gradients after updating weights\n",
    "        w1.grad.zero_()\n",
    "        w2.grad.zero_()"
   ]
  },
  {
   "cell_type": "code",
   "execution_count": 7,
   "metadata": {},
   "outputs": [
    {
     "name": "stdout",
     "output_type": "stream",
     "text": [
      "tensor([[ 0.9421,  0.0220],\n",
      "        [ 0.5686,  0.4946],\n",
      "        [ 0.6040,  0.4185],\n",
      "        [ 0.6661,  0.3948],\n",
      "        [ 0.9110, -0.0594],\n",
      "        [ 0.2710,  0.8684],\n",
      "        [ 0.6540,  0.3533],\n",
      "        [ 0.3961,  0.5861],\n",
      "        [ 0.3413,  0.5891],\n",
      "        [ 0.7338,  0.2673],\n",
      "        [ 0.3627,  0.6216],\n",
      "        [ 0.6717,  0.2306],\n",
      "        [ 0.1983,  0.8701],\n",
      "        [ 0.6754,  0.2332],\n",
      "        [ 0.5179,  0.5198],\n",
      "        [ 0.8315,  0.2714],\n",
      "        [ 0.7587,  0.2168],\n",
      "        [ 0.6816,  0.1982],\n",
      "        [ 0.5305,  0.3643],\n",
      "        [ 0.8392,  0.1646],\n",
      "        [ 0.5494,  0.4358],\n",
      "        [ 0.0156,  1.0571],\n",
      "        [ 0.8955, -0.0562],\n",
      "        [ 0.7250,  0.3126],\n",
      "        [ 0.6249,  0.4437],\n",
      "        [ 0.4457,  0.6327],\n",
      "        [ 0.7299,  0.3263],\n",
      "        [ 0.4879,  0.5586],\n",
      "        [ 0.8392,  0.0766],\n",
      "        [ 0.5412,  0.3670],\n",
      "        [ 0.6808,  0.3109],\n",
      "        [ 0.0648,  0.9798]], grad_fn=<MmBackward>)\n"
     ]
    }
   ],
   "source": [
    "print(y_pred)"
   ]
  },
  {
   "cell_type": "code",
   "execution_count": 8,
   "metadata": {},
   "outputs": [
    {
     "name": "stdout",
     "output_type": "stream",
     "text": [
      "[[1. 0.]\n",
      " [1. 0.]\n",
      " [1. 0.]\n",
      " [1. 0.]\n",
      " [1. 0.]\n",
      " [0. 1.]\n",
      " [1. 0.]\n",
      " [0. 1.]\n",
      " [0. 1.]\n",
      " [1. 0.]\n",
      " [0. 1.]\n",
      " [1. 0.]\n",
      " [0. 1.]\n",
      " [1. 0.]\n",
      " [0. 1.]\n",
      " [1. 0.]\n",
      " [1. 0.]\n",
      " [1. 0.]\n",
      " [1. 0.]\n",
      " [1. 0.]\n",
      " [1. 0.]\n",
      " [0. 1.]\n",
      " [1. 0.]\n",
      " [1. 0.]\n",
      " [1. 0.]\n",
      " [0. 1.]\n",
      " [1. 0.]\n",
      " [0. 1.]\n",
      " [1. 0.]\n",
      " [1. 0.]\n",
      " [1. 0.]\n",
      " [0. 1.]]\n"
     ]
    }
   ],
   "source": [
    "u = np.zeros((N,2), dtype=float)\n",
    "for i in range(0, N):\n",
    "    if(y_pred[i][0] < y_pred[i][1]):\n",
    "        u[i][1] = 1\n",
    "    else:\n",
    "        u[i][0] = 1\n",
    "print(u)"
   ]
  },
  {
   "cell_type": "code",
   "execution_count": 9,
   "metadata": {},
   "outputs": [],
   "source": [
    "import matplotlib.pyplot as plt"
   ]
  },
  {
   "cell_type": "code",
   "execution_count": 10,
   "metadata": {},
   "outputs": [
    {
     "data": {
      "image/png": "[encoded data removed]",
      "text/plain": [
       "<Figure size 432x288 with 1 Axes>"
      ]
     },
     "metadata": {
      "needs_background": "light"
     },
     "output_type": "display_data"
    }
   ],
   "source": [
    "# Detaching the Gradient Tensor and Converting the pytorch tensor into a numpy array\n",
    "w = y_pred.detach().numpy()\n",
    "\n",
    "# Scatter plot\n",
    "plt.scatter(w[:, 0], w[:, 1], c = u.T[0], marker='o', s=60)\n",
    "plt.show()"
   ]
  },
  {
   "cell_type": "code",
   "execution_count": null,
   "metadata": {},
   "outputs": [],
   "source": [
    "# It can be observed that an optimum separation of the graph nodes into two groups\n",
    "# has been achieved, using only two initial labeled data points."
   ]
  }
 ],
 "metadata": {
  "kernelspec": {
   "display_name": "Python 3",
   "language": "python",
   "name": "python3"
  },
  "language_info": {
   "codemirror_mode": {
    "name": "ipython",
    "version": 3
   },
   "file_extension": ".py",
   "mimetype": "text/x-python",
   "name": "python",
   "nbconvert_exporter": "python",
   "pygments_lexer": "ipython3",
   "version": "3.7.4"
  }
 },
 "nbformat": 4,
 "nbformat_minor": 2
}
